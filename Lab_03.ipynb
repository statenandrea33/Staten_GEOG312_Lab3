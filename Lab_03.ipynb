{
  "cells": [
    {
      "cell_type": "markdown",
      "metadata": {
        "id": "view-in-github",
        "colab_type": "text"
      },
      "source": [
        "<a href=\"https://colab.research.google.com/github/statenandrea33/Staten_GEOG312_Lab3/blob/main/Lab_03.ipynb\" target=\"_parent\"><img src=\"https://colab.research.google.com/assets/colab-badge.svg\" alt=\"Open In Colab\"/></a>"
      ]
    },
    {
      "cell_type": "markdown",
      "metadata": {
        "id": "KKSlwFgx9CNX"
      },
      "source": [
        "[![image](https://colab.research.google.com/assets/colab-badge.svg)](https://colab.research.google.com/github/giswqs/geog-312/blob/master/labs/lab_03.ipynb)\n",
        "[![image](https://binder.pangeo.io/badge_logo.svg)](https://gishub.org/geog312-pangeo)"
      ]
    },
    {
      "cell_type": "markdown",
      "metadata": {
        "id": "YwgOHtHJ9CNZ"
      },
      "source": [
        "**Andrea Staten**"
      ]
    },
    {
      "cell_type": "code",
      "execution_count": 1,
      "metadata": {
        "id": "ohonlJtK9CNZ",
        "colab": {
          "base_uri": "https://localhost:8080/"
        },
        "outputId": "49031776-136c-453f-ac76-1ff31ffe5618"
      },
      "outputs": [
        {
          "output_type": "stream",
          "name": "stdout",
          "text": [
            "Submitted time: 2023-09-25 00:42:59.436808\n"
          ]
        }
      ],
      "source": [
        "from datetime import datetime\n",
        "\n",
        "now = datetime.now()\n",
        "print(f\"Submitted time: {now}\")"
      ]
    },
    {
      "cell_type": "markdown",
      "metadata": {
        "id": "vc_B9WSO9CNa"
      },
      "source": [
        "## Question 1\n",
        "**Pizzas:** Think of at least three kinds of your favorite pizza. Store these pizza names in a list, and then use a for loop to print the name of each pizza.\n",
        "\n",
        "Modify your for loop to print a sentence using the name of the pizza instead of printing just the name of the pizza. For each pizza you should have one line of output containing a simple statement like *I like pepperoni pizza.*"
      ]
    },
    {
      "cell_type": "code",
      "execution_count": 2,
      "metadata": {
        "id": "2Ktm6XIu9CNa",
        "colab": {
          "base_uri": "https://localhost:8080/"
        },
        "outputId": "815f2a55-f546-42c0-fb4b-090ea0d591be"
      },
      "outputs": [
        {
          "output_type": "stream",
          "name": "stdout",
          "text": [
            "I would love a cheese pizza right now.\n",
            "Andrea, will you order us a cheese pizza?\n",
            "\n",
            "I would love a hawaiian pizza right now.\n",
            "Andrea, will you order us a hawaiian pizza?\n",
            "\n",
            "I would love a veggie pizza right now.\n",
            "Andrea, will you order us a veggie pizza?\n",
            "\n"
          ]
        }
      ],
      "source": [
        "pizzas = ['cheese', 'hawaiian', 'veggie']\n",
        "for pizza in pizzas:\n",
        "    print(f\"I would love a {pizza} pizza right now.\")\n",
        "    print(f\"Andrea, will you order us a {pizza} pizza?\\n\")"
      ]
    },
    {
      "cell_type": "markdown",
      "metadata": {
        "id": "WoX8JzdQ9CNa"
      },
      "source": [
        "Add a line at the end of your program, outside the for loop, that states how much you like pizza. The output should consist of three or more lines about the kinds of pizza you like and then an additional sentence, such as *I really love pizza!*"
      ]
    },
    {
      "cell_type": "code",
      "execution_count": 3,
      "metadata": {
        "id": "4Ms-7xW79CNa",
        "colab": {
          "base_uri": "https://localhost:8080/"
        },
        "outputId": "8d7b672f-beb8-4f26-9422-f2bf6548b7da"
      },
      "outputs": [
        {
          "output_type": "stream",
          "name": "stdout",
          "text": [
            "I would love a cheese pizza right now.\n",
            "Andrea, will you order us a cheese pizza?\n",
            "\n",
            "I would love a hawaiian pizza right now.\n",
            "Andrea, will you order us a hawaiian pizza?\n",
            "\n",
            "I would love a veggie pizza right now.\n",
            "Andrea, will you order us a veggie pizza?\n",
            "\n",
            "Of course I'll order the pizza, I love pizza!\n"
          ]
        }
      ],
      "source": [
        "pizzas = ['cheese', 'hawaiian', 'veggie']\n",
        "for pizza in pizzas:\n",
        "    print(f\"I would love a {pizza} pizza right now.\")\n",
        "    print(f\"Andrea, will you order us a {pizza} pizza?\\n\")\n",
        "\n",
        "print(\"Of course I'll order the pizza, I love pizza!\")"
      ]
    },
    {
      "cell_type": "markdown",
      "metadata": {
        "id": "IchOO0pD9CNa"
      },
      "source": [
        "## Question 2\n",
        "**Animals:** Think of at least three different animals that have a common characteristic. Store the names of these animals in a list, and then use a for loop to print out the name of each animal.\n",
        "\n",
        "Modify your program to print a statement about each animal, such as *A dog would make a great pet.*"
      ]
    },
    {
      "cell_type": "code",
      "execution_count": 4,
      "metadata": {
        "id": "WfkFlb4W9CNb",
        "colab": {
          "base_uri": "https://localhost:8080/"
        },
        "outputId": "0c6a04cb-f63f-43c4-9ec4-b965646575ee"
      },
      "outputs": [
        {
          "output_type": "stream",
          "name": "stdout",
          "text": [
            "zebras\n",
            "\n",
            "giraffes\n",
            "\n",
            "dogs\n",
            "\n",
            "I love zebras, do you?\n",
            "\n",
            "I love giraffes, do you?\n",
            "\n",
            "I love dogs, do you?\n",
            "\n"
          ]
        }
      ],
      "source": [
        "animals = ['zebras', 'giraffes', 'dogs']\n",
        "for animal in animals:\n",
        "    print(f\"{animal}\\n\")\n",
        "for animal in animals:\n",
        "    print(f\"I love {animal}, do you?\\n\")"
      ]
    },
    {
      "cell_type": "markdown",
      "metadata": {
        "id": "WsWv7HRY9CNb"
      },
      "source": [
        "Add a line at the end of your program stating what these animals have in common. You could print a sentence such as *Any of these animals would make a great pet!*"
      ]
    },
    {
      "cell_type": "code",
      "execution_count": 5,
      "metadata": {
        "id": "wT6CknJd9CNb",
        "colab": {
          "base_uri": "https://localhost:8080/"
        },
        "outputId": "0fd8d27b-2dc9-4b53-bf8c-9ff6627da99c"
      },
      "outputs": [
        {
          "output_type": "stream",
          "name": "stdout",
          "text": [
            "zebras\n",
            "\n",
            "giraffes\n",
            "\n",
            "dogs\n",
            "\n",
            "I love zebras, do you?\n",
            "\n",
            "I love giraffes, do you?\n",
            "\n",
            "I love dogs, do you?\n",
            "\n",
            "All of these animals have one thing in common, they all have a tail!\n"
          ]
        }
      ],
      "source": [
        "animals = ['zebras', 'giraffes', 'dogs']\n",
        "for animal in animals:\n",
        "    print(f\"{animal}\\n\")\n",
        "for animal in animals:\n",
        "    print(f\"I love {animal}, do you?\\n\")\n",
        "\n",
        "print(\"All of these animals have one thing in common, they all have a tail!\")"
      ]
    },
    {
      "cell_type": "markdown",
      "metadata": {
        "id": "BDmjCHRz9CNb"
      },
      "source": [
        "## Question 3\n",
        "**Counting to Twenty:** Use a for loop to print the numbers from 1 to 20, inclusive."
      ]
    },
    {
      "cell_type": "code",
      "execution_count": 6,
      "metadata": {
        "id": "qz6_KPte9CNb",
        "colab": {
          "base_uri": "https://localhost:8080/"
        },
        "outputId": "821e67d4-304b-46a7-96ca-9b3b38daf45e"
      },
      "outputs": [
        {
          "output_type": "stream",
          "name": "stdout",
          "text": [
            "1\n",
            "2\n",
            "3\n",
            "4\n",
            "5\n",
            "6\n",
            "7\n",
            "8\n",
            "9\n",
            "10\n",
            "11\n",
            "12\n",
            "13\n",
            "14\n",
            "15\n",
            "16\n",
            "17\n",
            "18\n",
            "19\n",
            "20\n"
          ]
        }
      ],
      "source": [
        "numbers = list(range(1,21))\n",
        "for value in numbers:\n",
        "  print(value)"
      ]
    },
    {
      "cell_type": "markdown",
      "metadata": {
        "id": "VPEAsq-J9CNb"
      },
      "source": [
        "## Question 4\n",
        "**One Hundred:** Make a list of the numbers from one to one hundred, and then use a for loop to print the numbers."
      ]
    },
    {
      "cell_type": "code",
      "execution_count": 7,
      "metadata": {
        "id": "WN7o8LW-9CNb",
        "colab": {
          "base_uri": "https://localhost:8080/"
        },
        "outputId": "1b9bd970-491b-409b-b582-8baf8934c6cf"
      },
      "outputs": [
        {
          "output_type": "stream",
          "name": "stdout",
          "text": [
            "1\n",
            "2\n",
            "3\n",
            "4\n",
            "5\n",
            "6\n",
            "7\n",
            "8\n",
            "9\n",
            "10\n",
            "11\n",
            "12\n",
            "13\n",
            "14\n",
            "15\n",
            "16\n",
            "17\n",
            "18\n",
            "19\n",
            "20\n",
            "21\n",
            "22\n",
            "23\n",
            "24\n",
            "25\n",
            "26\n",
            "27\n",
            "28\n",
            "29\n",
            "30\n",
            "31\n",
            "32\n",
            "33\n",
            "34\n",
            "35\n",
            "36\n",
            "37\n",
            "38\n",
            "39\n",
            "40\n",
            "41\n",
            "42\n",
            "43\n",
            "44\n",
            "45\n",
            "46\n",
            "47\n",
            "48\n",
            "49\n",
            "50\n",
            "51\n",
            "52\n",
            "53\n",
            "54\n",
            "55\n",
            "56\n",
            "57\n",
            "58\n",
            "59\n",
            "60\n",
            "61\n",
            "62\n",
            "63\n",
            "64\n",
            "65\n",
            "66\n",
            "67\n",
            "68\n",
            "69\n",
            "70\n",
            "71\n",
            "72\n",
            "73\n",
            "74\n",
            "75\n",
            "76\n",
            "77\n",
            "78\n",
            "79\n",
            "80\n",
            "81\n",
            "82\n",
            "83\n",
            "84\n",
            "85\n",
            "86\n",
            "87\n",
            "88\n",
            "89\n",
            "90\n",
            "91\n",
            "92\n",
            "93\n",
            "94\n",
            "95\n",
            "96\n",
            "97\n",
            "98\n",
            "99\n",
            "100\n"
          ]
        }
      ],
      "source": [
        "numbers = list(range(1, 101))\n",
        "for value in numbers:\n",
        "  print(value)"
      ]
    },
    {
      "cell_type": "markdown",
      "metadata": {
        "id": "wKKNChuL9CNc"
      },
      "source": [
        "## Question 5\n",
        "**Summing a Hundred:** Make a list of the numbers from one to one million, and then use `min()` and `max()` to make sure your list actually starts at one and ends at one hundred. Also, use the sum() function to see how quickly Python can add a hundred numbers."
      ]
    },
    {
      "cell_type": "code",
      "execution_count": 8,
      "metadata": {
        "id": "ZS5232gO9CNc",
        "colab": {
          "base_uri": "https://localhost:8080/"
        },
        "outputId": "02394c13-3f53-4b29-f4cf-15f498f45da4"
      },
      "outputs": [
        {
          "output_type": "stream",
          "name": "stdout",
          "text": [
            "[1, 2, 3, 4, 5, 6, 7, 8, 9, 10, 11, 12, 13, 14, 15, 16, 17, 18, 19, 20, 21, 22, 23, 24, 25, 26, 27, 28, 29, 30, 31, 32, 33, 34, 35, 36, 37, 38, 39, 40, 41, 42, 43, 44, 45, 46, 47, 48, 49, 50, 51, 52, 53, 54, 55, 56, 57, 58, 59, 60, 61, 62, 63, 64, 65, 66, 67, 68, 69, 70, 71, 72, 73, 74, 75, 76, 77, 78, 79, 80, 81, 82, 83, 84, 85, 86, 87, 88, 89, 90, 91, 92, 93, 94, 95, 96, 97, 98, 99, 100]\n",
            "1\n",
            "100\n",
            "5050\n"
          ]
        }
      ],
      "source": [
        "numbers = list(range(1, 101))\n",
        "print(numbers)\n",
        "print(min(numbers))\n",
        "print(max(numbers))\n",
        "print(sum(numbers))"
      ]
    },
    {
      "cell_type": "markdown",
      "metadata": {
        "id": "4-XcBQWq9CNc"
      },
      "source": [
        "## Question 6\n",
        "**Odd Numbers:** Use the third argument of the `range()` function to make a list of the odd numbers from 1 to 20. Use a `for` loop to print each number."
      ]
    },
    {
      "cell_type": "code",
      "execution_count": 9,
      "metadata": {
        "id": "_CarQ9bI9CNc",
        "colab": {
          "base_uri": "https://localhost:8080/"
        },
        "outputId": "f022a1ae-eae7-47af-d1f4-4c1a4097e6b4"
      },
      "outputs": [
        {
          "output_type": "stream",
          "name": "stdout",
          "text": [
            "1\n",
            "3\n",
            "5\n",
            "7\n",
            "9\n",
            "11\n",
            "13\n",
            "15\n",
            "17\n",
            "19\n"
          ]
        }
      ],
      "source": [
        "odd_numbers = list(range(1,21,2))\n",
        "for value in odd_numbers:\n",
        "    print(value)"
      ]
    },
    {
      "cell_type": "markdown",
      "metadata": {
        "id": "wIXQ09DQ9CNc"
      },
      "source": [
        "## Question 7\n",
        "**Threes:** Make a list of the multiples of 3 from 3 to 30. Use a `for` loop to print the numbers in your list."
      ]
    },
    {
      "cell_type": "code",
      "execution_count": 10,
      "metadata": {
        "id": "l1H9KTjC9CNc",
        "colab": {
          "base_uri": "https://localhost:8080/"
        },
        "outputId": "0ae4fba9-941e-4aaf-9080-ce8d5eeb11cf"
      },
      "outputs": [
        {
          "output_type": "stream",
          "name": "stdout",
          "text": [
            "3\n",
            "6\n",
            "9\n",
            "12\n",
            "15\n",
            "18\n",
            "21\n",
            "24\n",
            "27\n",
            "30\n"
          ]
        }
      ],
      "source": [
        "multiples = list(range(3,31,3))\n",
        "for value in multiples:\n",
        "    print(value)"
      ]
    },
    {
      "cell_type": "markdown",
      "metadata": {
        "id": "BEsIZ1S89CNc"
      },
      "source": [
        "## Question 8\n",
        "**Cubes:** A number raised to the third power is called a cube. For example, the cube of 2 is written as 2 ** 3 in Python. Make a list of the first 10 cubes (that is, the cube of each integer from 1 through 10), and use a for loop to print out the value of each cube."
      ]
    },
    {
      "cell_type": "code",
      "execution_count": 11,
      "metadata": {
        "id": "Bg2DUQvk9CNc",
        "colab": {
          "base_uri": "https://localhost:8080/"
        },
        "outputId": "24ed5351-11ce-4437-94b6-99a31b4eedee"
      },
      "outputs": [
        {
          "output_type": "stream",
          "name": "stdout",
          "text": [
            "[1, 8, 27, 64, 125, 216, 343, 512, 729, 1000]\n"
          ]
        }
      ],
      "source": [
        "cubes = [value**3 for value in range(1,11)]\n",
        "print(cubes)"
      ]
    },
    {
      "cell_type": "markdown",
      "metadata": {
        "id": "A-g22vH49CNc"
      },
      "source": [
        "## Question 9\n",
        "**Cube Comprehension:** Use a list comprehension to generate a list of the first 10 cubes."
      ]
    },
    {
      "cell_type": "code",
      "execution_count": 12,
      "metadata": {
        "id": "wBMo199J9CNd",
        "colab": {
          "base_uri": "https://localhost:8080/"
        },
        "outputId": "ec8ec26a-6ab3-4140-f627-99fb6d072c10"
      },
      "outputs": [
        {
          "output_type": "stream",
          "name": "stdout",
          "text": [
            "1\n",
            "8\n",
            "27\n",
            "64\n",
            "125\n",
            "216\n",
            "343\n",
            "512\n",
            "729\n",
            "1000\n"
          ]
        }
      ],
      "source": [
        "cubes = [number**3 for number in range(1,11)]\n",
        "\n",
        "for cube in cubes:\n",
        "    print(cube)"
      ]
    },
    {
      "cell_type": "markdown",
      "metadata": {
        "id": "300VJIk_9CNd"
      },
      "source": [
        "## Question 10\n",
        "**Slices:** Using one of the programs you wrote in this lab, add several lines to the end of the program that do the following:\n",
        "\n",
        "Print the message *The first three items in the list are:*. Then use a slice to print the first three items from that program’s list."
      ]
    },
    {
      "cell_type": "code",
      "execution_count": 13,
      "metadata": {
        "id": "2ZHaJDsB9CNd",
        "colab": {
          "base_uri": "https://localhost:8080/"
        },
        "outputId": "cbb75529-896b-405e-a248-eb3d350c257b"
      },
      "outputs": [
        {
          "output_type": "stream",
          "name": "stdout",
          "text": [
            "The first three items in the list are: 1.\n",
            "The first three items in the list are: 2.\n",
            "The first three items in the list are: 3.\n"
          ]
        }
      ],
      "source": [
        "numbers = list(range(1, 101))\n",
        "\n",
        "for number in numbers[:3]:\n",
        "  print(f\"The first three items in the list are: {number}.\")\n"
      ]
    },
    {
      "cell_type": "markdown",
      "metadata": {
        "id": "4h1sgTfr9CNd"
      },
      "source": [
        "Print the message *Three items from the middle of the list are:*. Use a slice to print three items from the middle of the list."
      ]
    },
    {
      "cell_type": "code",
      "execution_count": 14,
      "metadata": {
        "id": "BE9BSZGu9CNd",
        "colab": {
          "base_uri": "https://localhost:8080/"
        },
        "outputId": "93f59566-ee4b-4f6c-8b2d-31759556d529"
      },
      "outputs": [
        {
          "output_type": "stream",
          "name": "stdout",
          "text": [
            "Three items from the middle of the list are: 49.\n",
            "Three items from the middle of the list are: 50.\n",
            "Three items from the middle of the list are: 51.\n"
          ]
        }
      ],
      "source": [
        "numbers = list(range(1, 101))\n",
        "\n",
        "for number in numbers[48:51]:\n",
        "  print(f\"Three items from the middle of the list are: {number}.\")"
      ]
    },
    {
      "cell_type": "markdown",
      "metadata": {
        "id": "aPihdQWB9CNd"
      },
      "source": [
        "Print the message *The last three items in the list are:*. Use a slice to print the last three items in the list."
      ]
    },
    {
      "cell_type": "code",
      "execution_count": 15,
      "metadata": {
        "id": "-uanuITq9CNd",
        "colab": {
          "base_uri": "https://localhost:8080/"
        },
        "outputId": "e52f5bf7-4fc9-427b-fea5-c0a9fef77d57"
      },
      "outputs": [
        {
          "output_type": "stream",
          "name": "stdout",
          "text": [
            "The last three items in the list are: 98.\n",
            "The last three items in the list are: 99.\n",
            "The last three items in the list are: 100.\n"
          ]
        }
      ],
      "source": [
        "numbers = list(range(1, 101))\n",
        "\n",
        "for number in numbers[-3:]:\n",
        "  print(f\"The last three items in the list are: {number}.\")"
      ]
    },
    {
      "cell_type": "markdown",
      "metadata": {
        "id": "OLljs_tP9CNd"
      },
      "source": [
        "## Question 11\n",
        "**My Pizzas, Your Pizzas:** Start with your program from Question 1. Make a copy of the list of pizzas, and call it friend_pizzas. Then, do the following:\n",
        "\n",
        "Add a new pizza to the original list."
      ]
    },
    {
      "cell_type": "code",
      "execution_count": 16,
      "metadata": {
        "id": "gn1edF2I9CNe",
        "colab": {
          "base_uri": "https://localhost:8080/"
        },
        "outputId": "b3e1760c-2e66-4ea2-907d-2cbede796dbf"
      },
      "outputs": [
        {
          "output_type": "stream",
          "name": "stdout",
          "text": [
            "['cheese', 'hawaiian', 'veggie', 'supreme']\n"
          ]
        }
      ],
      "source": [
        "pizzas = ['cheese', 'hawaiian', 'veggie']\n",
        "friend_pizzas = pizzas[:]\n",
        "\n",
        "pizzas.append('supreme')\n",
        "print(pizzas)"
      ]
    },
    {
      "cell_type": "markdown",
      "metadata": {
        "id": "z_3gTj-J9CNe"
      },
      "source": [
        "Add a different pizza to the list `friend_pizzas`."
      ]
    },
    {
      "cell_type": "code",
      "execution_count": 17,
      "metadata": {
        "id": "5yxyBPP_9CNe",
        "colab": {
          "base_uri": "https://localhost:8080/"
        },
        "outputId": "c6c69c01-2e22-43b3-b442-84f76f5ce9c9"
      },
      "outputs": [
        {
          "output_type": "stream",
          "name": "stdout",
          "text": [
            "['cheese', 'hawaiian', 'veggie', 'pepperoni']\n"
          ]
        }
      ],
      "source": [
        "friend_pizzas.append('pepperoni')\n",
        "print(friend_pizzas)"
      ]
    },
    {
      "cell_type": "markdown",
      "metadata": {
        "id": "ayApuFZX9CNe"
      },
      "source": [
        "Prove that you have two separate lists. Print the message *My favorite pizzas are:*, and then use a for loop to print the first list. Print the message *My friend’s favorite pizzas are:*, and then use a for loop to print the second list. Make sure each new pizza is stored in the appropriate list."
      ]
    },
    {
      "cell_type": "code",
      "execution_count": 18,
      "metadata": {
        "id": "N8FzkmFm9CNe",
        "colab": {
          "base_uri": "https://localhost:8080/"
        },
        "outputId": "706fdac1-e4d0-4e9e-ff8e-151d9db09215"
      },
      "outputs": [
        {
          "output_type": "stream",
          "name": "stdout",
          "text": [
            "My favorite pizzas are: cheese.\n",
            "My favorite pizzas are: hawaiian.\n",
            "My favorite pizzas are: veggie.\n",
            "My favorite pizzas are: supreme.\n",
            "My friend's favorite pizzas are: cheese.\n",
            "My friend's favorite pizzas are: hawaiian.\n",
            "My friend's favorite pizzas are: veggie.\n",
            "My friend's favorite pizzas are: pepperoni.\n"
          ]
        }
      ],
      "source": [
        "for pizza in pizzas:\n",
        "  print(f\"My favorite pizzas are: {pizza}.\")\n",
        "\n",
        "for friend_pizza in friend_pizzas:\n",
        "  print(f\"My friend's favorite pizzas are: {friend_pizza}.\")"
      ]
    },
    {
      "cell_type": "markdown",
      "metadata": {
        "id": "nRLis-DW9CNe"
      },
      "source": [
        "## Question 12\n",
        "**Buffet:** A buffet-style restaurant offers only five basic foods. Think of five simple foods, and store them in a tuple.\n",
        "\n",
        "Use a for loop to print each food the restaurant offers."
      ]
    },
    {
      "cell_type": "code",
      "execution_count": 19,
      "metadata": {
        "id": "jv8Q0ebc9CNe",
        "colab": {
          "base_uri": "https://localhost:8080/"
        },
        "outputId": "1a4c9204-f5cc-4549-8b73-79a54dbef149"
      },
      "outputs": [
        {
          "output_type": "stream",
          "name": "stdout",
          "text": [
            "fried chicken\n",
            "pizza\n",
            "hamburgers\n",
            "salads\n",
            "ice cream\n"
          ]
        }
      ],
      "source": [
        "buffet_food = (\"fried chicken\", \"pizza\", \"hamburgers\", \"salads\", \"ice cream\")\n",
        "for buffet_foods in buffet_food:\n",
        "    print(buffet_foods)"
      ]
    },
    {
      "cell_type": "markdown",
      "metadata": {
        "id": "Hakya12V9CNj"
      },
      "source": [
        "Try to modify one of the items, and make sure that Python rejects the change."
      ]
    },
    {
      "cell_type": "code",
      "execution_count": 20,
      "metadata": {
        "id": "j4iOgXJW9CNj",
        "colab": {
          "base_uri": "https://localhost:8080/",
          "height": 181
        },
        "outputId": "d5962a7e-2019-4349-caf7-00367b0d80b8"
      },
      "outputs": [
        {
          "output_type": "error",
          "ename": "TypeError",
          "evalue": "ignored",
          "traceback": [
            "\u001b[0;31m---------------------------------------------------------------------------\u001b[0m",
            "\u001b[0;31mTypeError\u001b[0m                                 Traceback (most recent call last)",
            "\u001b[0;32m<ipython-input-20-d2f74182f85d>\u001b[0m in \u001b[0;36m<cell line: 1>\u001b[0;34m()\u001b[0m\n\u001b[0;32m----> 1\u001b[0;31m \u001b[0mbuffet_food\u001b[0m\u001b[0;34m[\u001b[0m\u001b[0;36m0\u001b[0m\u001b[0;34m]\u001b[0m \u001b[0;34m=\u001b[0m \u001b[0;34m'french fries'\u001b[0m\u001b[0;34m\u001b[0m\u001b[0;34m\u001b[0m\u001b[0m\n\u001b[0m",
            "\u001b[0;31mTypeError\u001b[0m: 'tuple' object does not support item assignment"
          ]
        }
      ],
      "source": [
        "buffet_food[0] = 'french fries'"
      ]
    },
    {
      "cell_type": "markdown",
      "metadata": {
        "id": "CUomBYnz9CNj"
      },
      "source": [
        "The restaurant changes its menu, replacing two of the items with different foods. Add a line that rewrites the tuple, and then use a for loop to print each of the items on the revised menu."
      ]
    },
    {
      "cell_type": "code",
      "execution_count": 21,
      "metadata": {
        "id": "GWj6HXLV9CNj",
        "colab": {
          "base_uri": "https://localhost:8080/"
        },
        "outputId": "22d29366-0059-4903-c8fb-7f152b78b3da"
      },
      "outputs": [
        {
          "output_type": "stream",
          "name": "stdout",
          "text": [
            "Original Menu:\n",
            "fried chicken\n",
            "pizza\n",
            "hamburgers\n",
            "salads\n",
            "ice cream\n",
            "\n",
            "New Menu:\n",
            "hamburgers\n",
            "fried chicken\n",
            "bbq\n",
            "pasta\n",
            "ice cream\n"
          ]
        }
      ],
      "source": [
        "buffet_food = (\"fried chicken\", \"pizza\", \"hamburgers\", \"salads\", \"ice cream\")\n",
        "print(\"Original Menu:\")\n",
        "for buffet_foods in buffet_food:\n",
        "    print(buffet_foods)\n",
        "\n",
        "buffet_food = (\"hamburgers\", \"fried chicken\", \"bbq\", \"pasta\", \"ice cream\")\n",
        "print(\"\\nNew Menu:\")\n",
        "for buffet_foods in buffet_food:\n",
        "    print(buffet_foods)"
      ]
    }
  ],
  "metadata": {
    "kernelspec": {
      "display_name": "Python 3 (ipykernel)",
      "language": "python",
      "name": "python3"
    },
    "language_info": {
      "codemirror_mode": {
        "name": "ipython",
        "version": 3
      },
      "file_extension": ".py",
      "mimetype": "text/x-python",
      "name": "python",
      "nbconvert_exporter": "python",
      "pygments_lexer": "ipython3",
      "version": "3.8.10"
    },
    "colab": {
      "provenance": [],
      "include_colab_link": true
    }
  },
  "nbformat": 4,
  "nbformat_minor": 0
}